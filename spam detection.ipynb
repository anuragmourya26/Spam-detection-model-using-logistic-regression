{
 "cells": [
  {
   "cell_type": "code",
   "execution_count": 6,
   "id": "cf4c16cf",
   "metadata": {},
   "outputs": [],
   "source": [
    "#importing libraries\n",
    "import numpy as np\n",
    "import pandas as pd\n",
    "from sklearn.model_selection import train_test_split\n",
    "from sklearn.feature_extraction.text import TfidfVectorizer\n",
    "from sklearn.linear_model import LogisticRegression\n",
    "from sklearn.metrics import accuracy_score"
   ]
  },
  {
   "cell_type": "code",
   "execution_count": 47,
   "id": "2e98619c",
   "metadata": {},
   "outputs": [],
   "source": [
    "#loading csv file\n",
    "df = pd.read_csv(\"mail_data.csv\")"
   ]
  },
  {
   "cell_type": "code",
   "execution_count": 25,
   "id": "aa5b964b",
   "metadata": {},
   "outputs": [
    {
     "data": {
      "text/html": [
       "<div>\n",
       "<style scoped>\n",
       "    .dataframe tbody tr th:only-of-type {\n",
       "        vertical-align: middle;\n",
       "    }\n",
       "\n",
       "    .dataframe tbody tr th {\n",
       "        vertical-align: top;\n",
       "    }\n",
       "\n",
       "    .dataframe thead th {\n",
       "        text-align: right;\n",
       "    }\n",
       "</style>\n",
       "<table border=\"1\" class=\"dataframe\">\n",
       "  <thead>\n",
       "    <tr style=\"text-align: right;\">\n",
       "      <th></th>\n",
       "      <th>Category</th>\n",
       "      <th>Message</th>\n",
       "    </tr>\n",
       "  </thead>\n",
       "  <tbody>\n",
       "    <tr>\n",
       "      <th>0</th>\n",
       "      <td>1</td>\n",
       "      <td>Go until jurong point, crazy.. Available only ...</td>\n",
       "    </tr>\n",
       "    <tr>\n",
       "      <th>1</th>\n",
       "      <td>1</td>\n",
       "      <td>Ok lar... Joking wif u oni...</td>\n",
       "    </tr>\n",
       "    <tr>\n",
       "      <th>2</th>\n",
       "      <td>0</td>\n",
       "      <td>Free entry in 2 a wkly comp to win FA Cup fina...</td>\n",
       "    </tr>\n",
       "    <tr>\n",
       "      <th>3</th>\n",
       "      <td>1</td>\n",
       "      <td>U dun say so early hor... U c already then say...</td>\n",
       "    </tr>\n",
       "    <tr>\n",
       "      <th>4</th>\n",
       "      <td>1</td>\n",
       "      <td>Nah I don't think he goes to usf, he lives aro...</td>\n",
       "    </tr>\n",
       "  </tbody>\n",
       "</table>\n",
       "</div>"
      ],
      "text/plain": [
       "  Category                                            Message\n",
       "0        1  Go until jurong point, crazy.. Available only ...\n",
       "1        1                      Ok lar... Joking wif u oni...\n",
       "2        0  Free entry in 2 a wkly comp to win FA Cup fina...\n",
       "3        1  U dun say so early hor... U c already then say...\n",
       "4        1  Nah I don't think he goes to usf, he lives aro..."
      ]
     },
     "execution_count": 25,
     "metadata": {},
     "output_type": "execute_result"
    }
   ],
   "source": [
    "#inspecting data\n",
    "df.head()"
   ]
  },
  {
   "cell_type": "code",
   "execution_count": 13,
   "id": "d021ce4a",
   "metadata": {},
   "outputs": [
    {
     "data": {
      "text/plain": [
       "Category    0\n",
       "Message     0\n",
       "dtype: int64"
      ]
     },
     "execution_count": 13,
     "metadata": {},
     "output_type": "execute_result"
    }
   ],
   "source": [
    "#looking for null values\n",
    "df.isna().sum()"
   ]
  },
  {
   "cell_type": "code",
   "execution_count": 29,
   "id": "43914ad7",
   "metadata": {},
   "outputs": [
    {
     "data": {
      "text/plain": [
       "Category    0\n",
       "Message     0\n",
       "dtype: int64"
      ]
     },
     "execution_count": 29,
     "metadata": {},
     "output_type": "execute_result"
    }
   ],
   "source": [
    "df.loc[df[\"Message\"]==\"null\"].count()"
   ]
  },
  {
   "cell_type": "code",
   "execution_count": 48,
   "id": "83abea85",
   "metadata": {},
   "outputs": [],
   "source": [
    "#labling ham mails as 1 and spam mails as 0\n",
    "df.loc[df[\"Category\"] == \"ham\", \"Category\"] = 1\n",
    "df.loc[df[\"Category\"] == \"spam\", \"Category\"] = 0"
   ]
  },
  {
   "cell_type": "code",
   "execution_count": 49,
   "id": "282cadd0",
   "metadata": {},
   "outputs": [],
   "source": [
    "#Storing data in X and Y variables\n",
    "X = df[\"Message\"]\n",
    "Y = df[\"Category\"]"
   ]
  },
  {
   "cell_type": "code",
   "execution_count": 31,
   "id": "c803718f",
   "metadata": {},
   "outputs": [
    {
     "data": {
      "text/plain": [
       "0    Go until jurong point, crazy.. Available only ...\n",
       "1                        Ok lar... Joking wif u oni...\n",
       "2    Free entry in 2 a wkly comp to win FA Cup fina...\n",
       "3    U dun say so early hor... U c already then say...\n",
       "4    Nah I don't think he goes to usf, he lives aro...\n",
       "Name: Message, dtype: object"
      ]
     },
     "execution_count": 31,
     "metadata": {},
     "output_type": "execute_result"
    }
   ],
   "source": [
    "X.head()"
   ]
  },
  {
   "cell_type": "code",
   "execution_count": 50,
   "id": "afae93a4",
   "metadata": {},
   "outputs": [
    {
     "data": {
      "text/plain": [
       "0    1\n",
       "1    1\n",
       "2    0\n",
       "3    1\n",
       "4    1\n",
       "Name: Category, dtype: object"
      ]
     },
     "execution_count": 50,
     "metadata": {},
     "output_type": "execute_result"
    }
   ],
   "source": [
    "Y.head()"
   ]
  },
  {
   "cell_type": "code",
   "execution_count": 51,
   "id": "7a99df8c",
   "metadata": {},
   "outputs": [],
   "source": [
    "# spliting data in to training and testing sets with 80% train data and 20% test data\n",
    "X_train, X_test, Y_train, Y_test = train_test_split(X, Y, test_size=0.20, random_state=80)"
   ]
  },
  {
   "cell_type": "code",
   "execution_count": 52,
   "id": "02d03e28",
   "metadata": {},
   "outputs": [
    {
     "data": {
      "text/plain": [
       "3534                               Sorry, I'll call later\n",
       "2578                Hey whats up? U sleeping all morning?\n",
       "214                               Yup... How ü noe leh...\n",
       "292     Haf u found him? I feel so stupid da v cam was...\n",
       "1713    o turns out i had stereo love on mi phone unde...\n",
       "                              ...                        \n",
       "522                            Shall i come to get pickle\n",
       "2259    Sad story of a Man - Last week was my b'day. M...\n",
       "2982    7 wonders in My WORLD 7th You 6th Ur style 5th...\n",
       "5308    I'm coming back on Thursday. Yay. Is it gonna ...\n",
       "1199    Al he does is moan at me if n e thin goes wron...\n",
       "Name: Message, Length: 4457, dtype: object"
      ]
     },
     "execution_count": 52,
     "metadata": {},
     "output_type": "execute_result"
    }
   ],
   "source": [
    "X_train"
   ]
  },
  {
   "cell_type": "code",
   "execution_count": 53,
   "id": "4b4b5cc0",
   "metadata": {},
   "outputs": [
    {
     "data": {
      "text/plain": [
       "3534    1\n",
       "2578    1\n",
       "214     1\n",
       "292     1\n",
       "1713    1\n",
       "Name: Category, dtype: object"
      ]
     },
     "execution_count": 53,
     "metadata": {},
     "output_type": "execute_result"
    }
   ],
   "source": [
    "Y_train.head()"
   ]
  },
  {
   "cell_type": "code",
   "execution_count": 54,
   "id": "cc12f1d2",
   "metadata": {},
   "outputs": [],
   "source": [
    "Y_train = Y_train.astype(\"int\")\n",
    "Y_test = Y_test.astype(\"int\")"
   ]
  },
  {
   "cell_type": "code",
   "execution_count": 55,
   "id": "53664d40",
   "metadata": {},
   "outputs": [],
   "source": [
    "#feature extraction using tfidf\n",
    "feature_ext = TfidfVectorizer(min_df=1, stop_words=\"english\", lowercase=\"True\")"
   ]
  },
  {
   "cell_type": "code",
   "execution_count": 56,
   "id": "811f6b2d",
   "metadata": {},
   "outputs": [],
   "source": [
    "X_train_features = feature_ext.fit_transform(X_train)\n",
    "X_test_features = feature_ext.transform(X_test)"
   ]
  },
  {
   "cell_type": "code",
   "execution_count": 59,
   "id": "47aef357",
   "metadata": {},
   "outputs": [
    {
     "name": "stdout",
     "output_type": "stream",
     "text": [
      "  (0, 3915)\t0.6094882587220327\n",
      "  (0, 4045)\t0.52281582270503\n",
      "  (0, 6144)\t0.5959762394670168\n",
      "  (1, 4463)\t0.43404183022239895\n",
      "  (1, 6039)\t0.5501359457582253\n",
      "  (1, 7267)\t0.5865913104172977\n",
      "  (1, 3343)\t0.4060403494048474\n",
      "  (2, 3958)\t0.5770420234118241\n",
      "  (2, 4663)\t0.6076975111771694\n",
      "  (2, 7501)\t0.5456429584681379\n",
      "  (3, 7373)\t0.3910135606511955\n",
      "  (3, 1582)\t0.5019851005653218\n",
      "  (3, 2088)\t0.3000130969348083\n",
      "  (3, 6367)\t0.44559202093502004\n",
      "  (3, 2740)\t0.3523891297958715\n",
      "  (3, 3222)\t0.4270610588026448\n",
      "  (4, 895)\t0.42025744552976463\n",
      "  (4, 6958)\t0.42025744552976463\n",
      "  (4, 5038)\t0.2422869895536978\n",
      "  (4, 4346)\t0.44077803171644436\n",
      "  (4, 4113)\t0.22612451546670512\n",
      "  (4, 6292)\t0.44077803171644436\n",
      "  (4, 6880)\t0.3851772717384851\n",
      "  (5, 349)\t0.264055054929898\n",
      "  (5, 6378)\t0.264055054929898\n",
      "  :\t:\n",
      "  (4455, 7455)\t0.3411207423483332\n",
      "  (4455, 7457)\t0.2377863541861799\n",
      "  (4455, 1862)\t0.25702345173534047\n",
      "  (4455, 4445)\t0.25599536742876106\n",
      "  (4455, 3437)\t0.30941076551340585\n",
      "  (4455, 7369)\t0.22910540516581354\n",
      "  (4455, 919)\t0.28475284720732064\n",
      "  (4455, 5781)\t0.2908616181662368\n",
      "  (4455, 4772)\t0.22967370845324442\n",
      "  (4455, 3110)\t0.2502694257024281\n",
      "  (4455, 4777)\t0.1809655065694044\n",
      "  (4456, 3356)\t0.2628972688194208\n",
      "  (4456, 2737)\t0.2628972688194208\n",
      "  (4456, 1042)\t0.2628972688194208\n",
      "  (4456, 893)\t0.45016328190914495\n",
      "  (4456, 1409)\t0.22508164095457248\n",
      "  (4456, 401)\t0.2419740802396167\n",
      "  (4456, 2724)\t0.45016328190914495\n",
      "  (4456, 7405)\t0.2063954593483618\n",
      "  (4456, 3095)\t0.1919191716600659\n",
      "  (4456, 4416)\t0.22973479952491418\n",
      "  (4456, 2333)\t0.18323526379496435\n",
      "  (4456, 6618)\t0.1854722707685577\n",
      "  (4456, 7434)\t0.1982977015588023\n",
      "  (4456, 3281)\t0.1965723302304076\n"
     ]
    }
   ],
   "source": [
    "print(X_train_features)"
   ]
  },
  {
   "cell_type": "code",
   "execution_count": 60,
   "id": "f770b405",
   "metadata": {},
   "outputs": [],
   "source": [
    "model = LogisticRegression()"
   ]
  },
  {
   "cell_type": "code",
   "execution_count": 61,
   "id": "fbd486b9",
   "metadata": {},
   "outputs": [
    {
     "data": {
      "text/plain": [
       "LogisticRegression()"
      ]
     },
     "execution_count": 61,
     "metadata": {},
     "output_type": "execute_result"
    }
   ],
   "source": [
    "model.fit(X_train_features, Y_train)"
   ]
  },
  {
   "cell_type": "code",
   "execution_count": 62,
   "id": "e7474424",
   "metadata": {},
   "outputs": [
    {
     "name": "stdout",
     "output_type": "stream",
     "text": [
      "0.9663450751626654\n"
     ]
    }
   ],
   "source": [
    "#evaluating the model\n",
    "prediction_on_train = model.predict(X_train_features)\n",
    "accuracy_on_training = accuracy_score(Y_train, prediction_on_train)\n",
    "print(accuracy_on_training)"
   ]
  },
  {
   "cell_type": "code",
   "execution_count": 64,
   "id": "d605835b",
   "metadata": {},
   "outputs": [
    {
     "name": "stdout",
     "output_type": "stream",
     "text": [
      "accuracy score on test data is 0.9663450751626654\n"
     ]
    }
   ],
   "source": [
    "print(f\"accuracy score on test data is {accuracy_on_training}\")"
   ]
  },
  {
   "cell_type": "code",
   "execution_count": 65,
   "id": "763d8fe1",
   "metadata": {},
   "outputs": [],
   "source": [
    "prediction_on_test = model.predict(X_test_features)\n",
    "accuracy_on_test = accuracy_score(Y_test, prediction_on_test)"
   ]
  },
  {
   "cell_type": "code",
   "execution_count": 66,
   "id": "121d5ddb",
   "metadata": {},
   "outputs": [
    {
     "name": "stdout",
     "output_type": "stream",
     "text": [
      "accuracy score on test data is 0.9632286995515695\n"
     ]
    }
   ],
   "source": [
    "print(f\"accuracy score on test data is {accuracy_on_test}\")"
   ]
  },
  {
   "cell_type": "code",
   "execution_count": 84,
   "id": "f8f89eb9",
   "metadata": {},
   "outputs": [
    {
     "name": "stdout",
     "output_type": "stream",
     "text": [
      "URGENT! You have won a 1 week FREE membership in our £100,000 Prize Jackpot! Txt the word\n",
      "Your email is Spam\n"
     ]
    }
   ],
   "source": [
    "test_message_list = []  #creating an empty list\n",
    "test_message = input()  #getting email from user\n",
    "test_message_list.append(test_message)  #adding the email in the list\n",
    "featured_input_message = feature_ext.transform(test_message_list) #transforming the text email to numeric features\n",
    "predicting_label = model.predict(featured_input_message) #predicting label\n",
    "test_message_list = []\n",
    "\n",
    "final_prediction = 0\n",
    "if predicting_label == 1:\n",
    "    final_prediction = \"Ham\"\n",
    "else:\n",
    "    final_prediction = \"Spam\"\n",
    "print(f\"Your email is {final_prediction}\")\n"
   ]
  },
  {
   "cell_type": "code",
   "execution_count": null,
   "id": "a42db40e",
   "metadata": {},
   "outputs": [],
   "source": []
  },
  {
   "cell_type": "code",
   "execution_count": null,
   "id": "e8901c0d",
   "metadata": {},
   "outputs": [],
   "source": []
  },
  {
   "cell_type": "code",
   "execution_count": null,
   "id": "721e9b99",
   "metadata": {},
   "outputs": [],
   "source": []
  }
 ],
 "metadata": {
  "kernelspec": {
   "display_name": "Python 3 (ipykernel)",
   "language": "python",
   "name": "python3"
  },
  "language_info": {
   "codemirror_mode": {
    "name": "ipython",
    "version": 3
   },
   "file_extension": ".py",
   "mimetype": "text/x-python",
   "name": "python",
   "nbconvert_exporter": "python",
   "pygments_lexer": "ipython3",
   "version": "3.9.7"
  }
 },
 "nbformat": 4,
 "nbformat_minor": 5
}
